{
 "cells": [
  {
   "cell_type": "code",
   "execution_count": 17,
   "metadata": {},
   "outputs": [
    {
     "name": "stdout",
     "output_type": "stream",
     "text": [
      "##matching x-cordinate##\n",
      "move right\n",
      "move right\n",
      "move right\n",
      "x coordinate matched\n",
      "##matching y-cordinate##\n",
      "move forward\n",
      "move forward\n",
      "move forward\n",
      "move forward\n",
      "y coordinate matched\n",
      "##matching z-cordinate##\n",
      "move up\n",
      "move up\n",
      "move up\n",
      "move up\n",
      "move up\n",
      "z coordinate matched\n",
      "object reached- - vibrate all four sensors once\n"
     ]
    }
   ],
   "source": [
    "import time\n",
    "\n",
    "# persons finger tip co-ordinates will also be recorded \n",
    "c = [3,4,5]\n",
    "org = [0,0,0]\n",
    "\n",
    "flag1 = False\n",
    "flag2 = False\n",
    "flag3 = False\n",
    "print('##matching x-cordinate##')\n",
    "while flag1==False:\n",
    "    if c[0]==org[0]:\n",
    "        flag1 = True\n",
    "        print('x coordinate matched')\n",
    "    if c[0]>org[0]:\n",
    "        flag1 = False\n",
    "        time.sleep(3)\n",
    "        print('move right')\n",
    "        org[0]+=1\n",
    "    if c[0]<org[0]:\n",
    "        flag1 = False\n",
    "        org[0]-=1\n",
    "        time.sleep(3)\n",
    "        print('move left')\n",
    "        \n",
    "print('##matching y-cordinate##')        \n",
    "while flag2==False:\n",
    "    if c[1]==org[1]:\n",
    "        flag2 = True\n",
    "        print('y coordinate matched')\n",
    "    else:\n",
    "        time.sleep(3)\n",
    "        print('move forward')\n",
    "        org[1]+=1\n",
    "        \n",
    "        \n",
    "print('##matching z-cordinate##')        \n",
    "while flag3==False:\n",
    "    if c[2]==org[2]:\n",
    "        flag3 = True\n",
    "        print('z coordinate matched')\n",
    "        print('object reached- - vibrate all four sensors once')\n",
    "    if c[2]>org[2]:\n",
    "        flag1 = False\n",
    "        time.sleep(3)\n",
    "        print('move up')\n",
    "        org[2]+=1\n",
    "    if c[2]<org[2]:\n",
    "        org[0]-=1\n",
    "        time.sleep(3)\n",
    "        print('move down')           \n",
    "    "
   ]
  },
  {
   "cell_type": "code",
   "execution_count": null,
   "metadata": {},
   "outputs": [],
   "source": []
  }
 ],
 "metadata": {
  "kernelspec": {
   "display_name": "Python 3",
   "language": "python",
   "name": "python3"
  },
  "language_info": {
   "codemirror_mode": {
    "name": "ipython",
    "version": 3
   },
   "file_extension": ".py",
   "mimetype": "text/x-python",
   "name": "python",
   "nbconvert_exporter": "python",
   "pygments_lexer": "ipython3",
   "version": "3.6.5"
  }
 },
 "nbformat": 4,
 "nbformat_minor": 2
}
